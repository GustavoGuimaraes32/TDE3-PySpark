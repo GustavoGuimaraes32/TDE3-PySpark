{
  "nbformat": 4,
  "nbformat_minor": 0,
  "metadata": {
    "colab": {
      "provenance": [],
      "authorship_tag": "ABX9TyOuGucR2/+pv2IREiwCKsru"
    },
    "kernelspec": {
      "name": "python3",
      "display_name": "Python 3"
    },
    "language_info": {
      "name": "python"
    }
  },
  "cells": [
    {
      "cell_type": "code",
      "execution_count": null,
      "metadata": {
        "id": "1KKCBb-PK5qy"
      },
      "outputs": [],
      "source": [
        "!pip install pyspark"
      ]
    },
    {
      "cell_type": "code",
      "source": [
        "# importar bibliotecas\n",
        "import pyspark\n",
        "from pyspark.sql import SparkSession\n",
        "\n",
        "#Criação de uma sessão Spark(caso ela não exista) ou recuperação de uma \n",
        "#sessão existente com o mesmo nome\n",
        "spark = SparkSession.builder.appName(\"Censo Escolar\").master('local[*]').getOrCreate()\n",
        "\n",
        "# criação do contexto\n",
        "\n",
        "sc = spark.sparkContext\n",
        "\n",
        "rdd = sc.textFile(\"censo_escolar_2021.csv\")\n",
        "rdd.take(4)"
      ],
      "metadata": {
        "id": "l8V1udvWK8To"
      },
      "execution_count": null,
      "outputs": []
    },
    {
      "cell_type": "code",
      "source": [
        "# Ignorar o Cabeçalho\n",
        "\n",
        "rdd = rdd.filter(lambda x:x.split(\";\")[0]!=\"NU_ANO_CENSO\")\n",
        "rdd.collect()"
      ],
      "metadata": {
        "id": "H5wbkfk_OgdQ"
      },
      "execution_count": null,
      "outputs": []
    },
    {
      "cell_type": "markdown",
      "source": [
        "## **Resolução Questão 1**"
      ],
      "metadata": {
        "id": "c9ObGkOnc06s"
      }
    },
    {
      "cell_type": "code",
      "source": [
        "# Questão 1 (Primeira Maneira para realizar a Questão - Mais elaborada)\n",
        "\n",
        "rdd_map = rdd.map(lambda x: (x.split(\";\")[6], 1))\n",
        "rdd_map.take(4)"
      ],
      "metadata": {
        "colab": {
          "base_uri": "https://localhost:8080/"
        },
        "id": "k-u8-yIRXr1C",
        "outputId": "7730bfd3-ccfd-4c17-cb6a-dc7e96bab90b"
      },
      "execution_count": null,
      "outputs": [
        {
          "output_type": "execute_result",
          "data": {
            "text/plain": [
              "[(\"Alta Floresta D'Oeste\", 1),\n",
              " (\"Alta Floresta D'Oeste\", 1),\n",
              " (\"Alta Floresta D'Oeste\", 1),\n",
              " (\"Alta Floresta D'Oeste\", 1)]"
            ]
          },
          "metadata": {},
          "execution_count": 44
        }
      ]
    },
    {
      "cell_type": "code",
      "source": [
        "rdd_reduce = rdd_map.reduceByKey(lambda x,y : x+y)\n",
        "rdd_reduce.take(4)"
      ],
      "metadata": {
        "colab": {
          "base_uri": "https://localhost:8080/"
        },
        "id": "d-83YtBfaD6C",
        "outputId": "483d841f-e971-4978-b26c-3454e62fe492"
      },
      "execution_count": null,
      "outputs": [
        {
          "output_type": "execute_result",
          "data": {
            "text/plain": [
              "[('Colorado do Oeste', 15),\n",
              " ('Costa Marques', 15),\n",
              " (\"Nova Brasil�ndia D'Oeste\", 11),\n",
              " (\"Alvorada D'Oeste\", 20)]"
            ]
          },
          "metadata": {},
          "execution_count": 45
        }
      ]
    },
    {
      "cell_type": "code",
      "source": [
        "rdd_curitiba = rdd_reduce.filter(lambda x: x[0] == 'Curitiba')\n",
        "rdd_curitiba.take(5)"
      ],
      "metadata": {
        "colab": {
          "base_uri": "https://localhost:8080/"
        },
        "id": "N0xDmOR6ahaS",
        "outputId": "ccfe2348-4c3c-4d6a-8525-613b9509c6b7"
      },
      "execution_count": null,
      "outputs": [
        {
          "output_type": "execute_result",
          "data": {
            "text/plain": [
              "[('Curitiba', 1181)]"
            ]
          },
          "metadata": {},
          "execution_count": 47
        }
      ]
    },
    {
      "cell_type": "code",
      "source": [
        "rdd_curitiba.coalesce(1).saveAsTextFile(\"Escolas-Curitiba.txt\")"
      ],
      "metadata": {
        "id": "Ed9II4Mu7zoV"
      },
      "execution_count": null,
      "outputs": []
    },
    {
      "cell_type": "code",
      "source": [
        "# Questão 1 (Segunda Maneira para realizar a Questão - Mais simplificada)\n",
        "\n",
        "rddAlternativo = rdd.filter(lambda x:x.split(\";\")[6] == \"Curitiba\")\n",
        "rddAlternativo.take(4)"
      ],
      "metadata": {
        "id": "9xA4FWNYb8UU"
      },
      "execution_count": null,
      "outputs": []
    },
    {
      "cell_type": "code",
      "source": [
        "rddAlternativo.count()"
      ],
      "metadata": {
        "colab": {
          "base_uri": "https://localhost:8080/"
        },
        "id": "r_tzD_DCcOqF",
        "outputId": "848b3fd9-890d-4066-fa5a-ec28321c389c"
      },
      "execution_count": null,
      "outputs": [
        {
          "output_type": "execute_result",
          "data": {
            "text/plain": [
              "1181"
            ]
          },
          "metadata": {},
          "execution_count": 51
        }
      ]
    },
    {
      "cell_type": "markdown",
      "source": [
        "## **Resolução Questão 2**"
      ],
      "metadata": {
        "id": "ERD8Ogr3c-v4"
      }
    },
    {
      "cell_type": "code",
      "source": [
        "rdd_rg_map = rdd.map(lambda x:(x.split(\";\")[1], 1))\n",
        "rdd_rg_map.take(10)"
      ],
      "metadata": {
        "colab": {
          "base_uri": "https://localhost:8080/"
        },
        "id": "vjKJeIvcdDB9",
        "outputId": "37feaca0-0b47-4bde-acdc-6e18e73aaa3a"
      },
      "execution_count": null,
      "outputs": [
        {
          "output_type": "execute_result",
          "data": {
            "text/plain": [
              "[('Norte', 1),\n",
              " ('Norte', 1),\n",
              " ('Norte', 1),\n",
              " ('Norte', 1),\n",
              " ('Norte', 1),\n",
              " ('Norte', 1),\n",
              " ('Norte', 1),\n",
              " ('Norte', 1),\n",
              " ('Norte', 1),\n",
              " ('Norte', 1)]"
            ]
          },
          "metadata": {},
          "execution_count": 53
        }
      ]
    },
    {
      "cell_type": "code",
      "source": [
        "rdd_rg_reduce = rdd_rg_map.reduceByKey(lambda x,y : x+y)\n",
        "rdd_rg_reduce.collect()"
      ],
      "metadata": {
        "colab": {
          "base_uri": "https://localhost:8080/"
        },
        "id": "EuA13e-J7Pi_",
        "outputId": "8e081558-a566-446e-b913-f2e07dc1b67d"
      },
      "execution_count": null,
      "outputs": [
        {
          "output_type": "execute_result",
          "data": {
            "text/plain": [
              "[('Norte', 26095),\n",
              " ('Sul', 29018),\n",
              " ('Centro-Oeste', 11659),\n",
              " ('Nordeste', 79039),\n",
              " ('Sudeste', 75329)]"
            ]
          },
          "metadata": {},
          "execution_count": 55
        }
      ]
    },
    {
      "cell_type": "code",
      "source": [
        "rdd_rg_reduce.coalesce(1).saveAsTextFile(\"Numero-Escolas-Região_Geográfica.txt\")"
      ],
      "metadata": {
        "id": "in_QVwxn8mlW"
      },
      "execution_count": null,
      "outputs": []
    },
    {
      "cell_type": "markdown",
      "source": [
        "## **Resolução Questão 4**"
      ],
      "metadata": {
        "id": "MnH33WQu9Izu"
      }
    },
    {
      "cell_type": "code",
      "source": [
        "pairRDD_media = rdd.map(lambda x:(x.split(\";\")[1], (int(x.split(\";\")[305]), 1)))\n",
        "pairRDD_media.take(6)"
      ],
      "metadata": {
        "colab": {
          "base_uri": "https://localhost:8080/"
        },
        "id": "McVjIzGa-NUq",
        "outputId": "c08da85f-8b63-4b1d-ad73-202037e8f4e5"
      },
      "execution_count": null,
      "outputs": [
        {
          "output_type": "execute_result",
          "data": {
            "text/plain": [
              "[('Norte', (0, 1)),\n",
              " ('Norte', (0, 1)),\n",
              " ('Norte', (0, 1)),\n",
              " ('Norte', (0, 1)),\n",
              " ('Norte', (0, 1)),\n",
              " ('Norte', (327, 1))]"
            ]
          },
          "metadata": {},
          "execution_count": 73
        }
      ]
    },
    {
      "cell_type": "code",
      "source": [
        "pairRDD_soma_q3 = pairRDD_media.reduceByKey(lambda x,y: (x[0]+y[0] ,x[1]+y[1]))\n",
        "pairRDD_soma_q3.take(6)"
      ],
      "metadata": {
        "id": "XUodWF_7AI1i"
      },
      "execution_count": null,
      "outputs": []
    }
  ]
}