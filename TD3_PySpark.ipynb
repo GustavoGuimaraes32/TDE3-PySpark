{
  "nbformat": 4,
  "nbformat_minor": 0,
  "metadata": {
    "colab": {
      "provenance": []
    },
    "kernelspec": {
      "name": "python3",
      "display_name": "Python 3"
    },
    "language_info": {
      "name": "python"
    }
  },
  "cells": [
    {
      "cell_type": "code",
      "execution_count": null,
      "metadata": {
        "id": "1KKCBb-PK5qy"
      },
      "outputs": [],
      "source": [
        "!pip install pyspark"
      ]
    },
    {
      "cell_type": "code",
      "source": [
        "# importar bibliotecas\n",
        "import pyspark\n",
        "from pyspark.sql import SparkSession\n",
        "\n",
        "#Criação de uma sessão Spark(caso ela não exista) ou recuperação de uma \n",
        "#sessão existente com o mesmo nome\n",
        "spark = SparkSession.builder.appName(\"Censo Escolar\").master('local[*]').getOrCreate()\n",
        "\n",
        "# criação do contexto\n",
        "\n",
        "sc = spark.sparkContext\n",
        "\n",
        "rdd = sc.textFile(\"censo_escolar_2021.csv\")\n",
        "rdd.take(4)"
      ],
      "metadata": {
        "id": "l8V1udvWK8To"
      },
      "execution_count": null,
      "outputs": []
    },
    {
      "cell_type": "code",
      "source": [
        "# Ignorar o Cabeçalho\n",
        "\n",
        "rdd = rdd.filter(lambda x:x.split(\";\")[0]!=\"NU_ANO_CENSO\")\n",
        "rdd.collect()"
      ],
      "metadata": {
        "id": "H5wbkfk_OgdQ"
      },
      "execution_count": null,
      "outputs": []
    },
    {
      "cell_type": "markdown",
      "source": [
        "## **Resolução Questão 1**"
      ],
      "metadata": {
        "id": "c9ObGkOnc06s"
      }
    },
    {
      "cell_type": "code",
      "source": [
        "# Questão 1 (Primeira Maneira para realizar a Questão - Mais elaborada)\n",
        "\n",
        "rdd_map = rdd.map(lambda x: (x.split(\";\")[6], 1))\n",
        "rdd_map.take(4)"
      ],
      "metadata": {
        "colab": {
          "base_uri": "https://localhost:8080/"
        },
        "id": "k-u8-yIRXr1C",
        "outputId": "79c7f908-3bd9-45a0-bfa8-1677b6dd050b"
      },
      "execution_count": 28,
      "outputs": [
        {
          "output_type": "execute_result",
          "data": {
            "text/plain": [
              "[(\"Alta Floresta D'Oeste\", 1),\n",
              " (\"Alta Floresta D'Oeste\", 1),\n",
              " (\"Alta Floresta D'Oeste\", 1),\n",
              " (\"Alta Floresta D'Oeste\", 1)]"
            ]
          },
          "metadata": {},
          "execution_count": 28
        }
      ]
    },
    {
      "cell_type": "code",
      "source": [
        "rdd_reduce = rdd_map.reduceByKey(lambda x,y : x+y)\n",
        "rdd_reduce.take(4)"
      ],
      "metadata": {
        "colab": {
          "base_uri": "https://localhost:8080/"
        },
        "id": "d-83YtBfaD6C",
        "outputId": "c59e1e49-c5b6-4a0c-a581-c08077e5bc96"
      },
      "execution_count": 29,
      "outputs": [
        {
          "output_type": "execute_result",
          "data": {
            "text/plain": [
              "[('Colorado do Oeste', 15),\n",
              " ('Costa Marques', 15),\n",
              " (\"Nova Brasil�ndia D'Oeste\", 11),\n",
              " (\"Alvorada D'Oeste\", 20)]"
            ]
          },
          "metadata": {},
          "execution_count": 29
        }
      ]
    },
    {
      "cell_type": "code",
      "source": [
        "rdd_curitiba = rdd_reduce.filter(lambda x: x[0] == 'Curitiba')\n",
        "rdd_curitiba.take(5)"
      ],
      "metadata": {
        "colab": {
          "base_uri": "https://localhost:8080/"
        },
        "id": "N0xDmOR6ahaS",
        "outputId": "59e78d80-3a05-4d86-b2f2-ca1dec417fe5"
      },
      "execution_count": 30,
      "outputs": [
        {
          "output_type": "execute_result",
          "data": {
            "text/plain": [
              "[('Curitiba', 1181)]"
            ]
          },
          "metadata": {},
          "execution_count": 30
        }
      ]
    },
    {
      "cell_type": "code",
      "source": [
        "rdd_curitiba.coalesce(1).saveAsTextFile(\"Escolas-Curitiba.txt\")"
      ],
      "metadata": {
        "id": "Ed9II4Mu7zoV"
      },
      "execution_count": 31,
      "outputs": []
    },
    {
      "cell_type": "code",
      "source": [
        "# Questão 1 (Segunda Maneira para realizar a Questão - Mais simplificada)\n",
        "\n",
        "rddAlternativo = rdd.filter(lambda x:x.split(\";\")[6] == \"Curitiba\")\n",
        "rddAlternativo.take(4)"
      ],
      "metadata": {
        "id": "9xA4FWNYb8UU"
      },
      "execution_count": null,
      "outputs": []
    },
    {
      "cell_type": "code",
      "source": [
        "rddAlternativo.count()"
      ],
      "metadata": {
        "colab": {
          "base_uri": "https://localhost:8080/"
        },
        "id": "r_tzD_DCcOqF",
        "outputId": "a30f46ce-d60d-483f-ceca-0cb748192167"
      },
      "execution_count": 33,
      "outputs": [
        {
          "output_type": "execute_result",
          "data": {
            "text/plain": [
              "1181"
            ]
          },
          "metadata": {},
          "execution_count": 33
        }
      ]
    },
    {
      "cell_type": "markdown",
      "source": [
        "## **Resolução Questão 2**"
      ],
      "metadata": {
        "id": "ERD8Ogr3c-v4"
      }
    },
    {
      "cell_type": "code",
      "source": [
        "rdd_rg_map = rdd.map(lambda x:(x.split(\";\")[1], 1))\n",
        "rdd_rg_map.take(10)"
      ],
      "metadata": {
        "colab": {
          "base_uri": "https://localhost:8080/"
        },
        "id": "vjKJeIvcdDB9",
        "outputId": "b90f7ba4-8a65-4d06-d79d-5efb1415399d"
      },
      "execution_count": 34,
      "outputs": [
        {
          "output_type": "execute_result",
          "data": {
            "text/plain": [
              "[('Norte', 1),\n",
              " ('Norte', 1),\n",
              " ('Norte', 1),\n",
              " ('Norte', 1),\n",
              " ('Norte', 1),\n",
              " ('Norte', 1),\n",
              " ('Norte', 1),\n",
              " ('Norte', 1),\n",
              " ('Norte', 1),\n",
              " ('Norte', 1)]"
            ]
          },
          "metadata": {},
          "execution_count": 34
        }
      ]
    },
    {
      "cell_type": "code",
      "source": [
        "rdd_rg_reduce = rdd_rg_map.reduceByKey(lambda x,y : x+y)\n",
        "rdd_rg_reduce.collect()"
      ],
      "metadata": {
        "colab": {
          "base_uri": "https://localhost:8080/"
        },
        "id": "EuA13e-J7Pi_",
        "outputId": "9513200a-3d7f-429d-d72c-cb39b9b561da"
      },
      "execution_count": 35,
      "outputs": [
        {
          "output_type": "execute_result",
          "data": {
            "text/plain": [
              "[('Norte', 26095),\n",
              " ('Sul', 29018),\n",
              " ('Centro-Oeste', 11659),\n",
              " ('Nordeste', 79039),\n",
              " ('Sudeste', 75329)]"
            ]
          },
          "metadata": {},
          "execution_count": 35
        }
      ]
    },
    {
      "cell_type": "code",
      "source": [
        "rdd_rg_reduce.coalesce(1).saveAsTextFile(\"Numero-Escolas-Região_Geográfica.txt\")"
      ],
      "metadata": {
        "id": "in_QVwxn8mlW"
      },
      "execution_count": 36,
      "outputs": []
    },
    {
      "cell_type": "markdown",
      "source": [
        "## **Resolução Questão 4**"
      ],
      "metadata": {
        "id": "MnH33WQu9Izu"
      }
    },
    {
      "cell_type": "code",
      "source": [
        "pairRDD_media = rdd.map(lambda x:(x.split(\";\")[1], (int(x.split(\";\")[305]), 1)))\n",
        "pairRDD_media.take(6)"
      ],
      "metadata": {
        "colab": {
          "base_uri": "https://localhost:8080/"
        },
        "id": "McVjIzGa-NUq",
        "outputId": "378ca52d-e8d2-44c7-888e-905283f2c653"
      },
      "execution_count": 37,
      "outputs": [
        {
          "output_type": "execute_result",
          "data": {
            "text/plain": [
              "[('Norte', (0, 1)),\n",
              " ('Norte', (0, 1)),\n",
              " ('Norte', (0, 1)),\n",
              " ('Norte', (0, 1)),\n",
              " ('Norte', (0, 1)),\n",
              " ('Norte', (327, 1))]"
            ]
          },
          "metadata": {},
          "execution_count": 37
        }
      ]
    },
    {
      "cell_type": "code",
      "source": [
        "pairRDD_soma_q3 = pairRDD_media.reduceByKey(lambda x,y: x+y)\n",
        "pairRDD_soma_q3.take(6)"
      ],
      "metadata": {
        "id": "XUodWF_7AI1i"
      },
      "execution_count": null,
      "outputs": []
    },
    {
      "cell_type": "markdown",
      "source": [
        "## **Resolução Questão 5**"
      ],
      "metadata": {
        "id": "66p1y7IGH54A"
      }
    },
    {
      "cell_type": "code",
      "source": [
        "#Validar e ignorar o campos que estão em branco no arquivo\n",
        "rdd_filter = rdd.filter(lambda x:x.split(\";\")[17] != \" \" and x.split(\";\")[15] != \" \")\n",
        "\n",
        "#PairRdd que realiza um Map que retorna uma nova lista com os valores dos índices (Localização e Dependência)\n",
        "pairRdd_values = rdd.map(lambda x: ((x.split(\";\")[17], x.split(\";\")[15]), 1))\n",
        "pairRdd_values.take(10)"
      ],
      "metadata": {
        "id": "W1dp22-jH_EG",
        "colab": {
          "base_uri": "https://localhost:8080/"
        },
        "outputId": "adc697ee-cf42-4b66-83c1-bc3adc7dcd92"
      },
      "execution_count": 38,
      "outputs": [
        {
          "output_type": "execute_result",
          "data": {
            "text/plain": [
              "[(('2', '2'), 1),\n",
              " (('1', '2'), 1),\n",
              " (('2', '3'), 1),\n",
              " (('1', '3'), 1),\n",
              " (('2', '3'), 1),\n",
              " (('1', '2'), 1),\n",
              " (('1', '3'), 1),\n",
              " (('2', '3'), 1),\n",
              " (('1', '2'), 1),\n",
              " (('2', '3'), 1)]"
            ]
          },
          "metadata": {},
          "execution_count": 38
        }
      ]
    },
    {
      "cell_type": "code",
      "source": [
        "#somar as ocorrencias das chaves, apresentando a quantidade de escolas. \n",
        "#Por tipo de localização e Dependência\n",
        "contagem_dependencia_local = pairRdd_values.reduceByKey(lambda x,y: x+y)\n",
        "contagem_dependencia_local.collect()"
      ],
      "metadata": {
        "id": "g3LLoLGCITjO",
        "colab": {
          "base_uri": "https://localhost:8080/"
        },
        "outputId": "b2c88ff6-ed93-4931-8b08-d91483ae6244"
      },
      "execution_count": 39,
      "outputs": [
        {
          "output_type": "execute_result",
          "data": {
            "text/plain": [
              "[(('1', '1'), 619),\n",
              " (('1', '2'), 26796),\n",
              " (('1', '3'), 64278),\n",
              " (('2', '4'), 934),\n",
              " (('2', '2'), 6768),\n",
              " (('2', '3'), 70090),\n",
              " (('1', '4'), 51559),\n",
              " (('3', '0'), 1),\n",
              " (('2', '1'), 95)]"
            ]
          },
          "metadata": {},
          "execution_count": 39
        }
      ]
    },
    {
      "cell_type": "code",
      "source": [
        "#Criação do arquivo TXT com o resultado da função\n",
        "contagem_dependencia_local.coalesce(1).saveAsTextFile(\"Escolas_local_Dependencia.txt\")"
      ],
      "metadata": {
        "id": "Q5L_k6PhIWAh"
      },
      "execution_count": 40,
      "outputs": []
    },
    {
      "cell_type": "markdown",
      "source": [
        "## **Resolução Questão 6**"
      ],
      "metadata": {
        "id": "iAR0U-Gx3sdV"
      }
    },
    {
      "cell_type": "code",
      "source": [
        "rdd_filtro = rdd.filter(lambda x:x.split(\";\")[4] != \" \" and x.split(\";\")[15] != \" \")\n",
        "\n",
        "pairRDD_quant = rdd_filtro.map(lambda x: ((x.split(\";\")[4], x.split(\";\")[15]), 1))\n",
        "pairRDD_quant.collect()"
      ],
      "metadata": {
        "id": "OcnCk9ZO3wA7"
      },
      "execution_count": null,
      "outputs": []
    },
    {
      "cell_type": "code",
      "source": [
        "rdd_somaQuant = pairRDD_quant.reduceByKey(lambda x,y: x+y)\n",
        "rdd_somaQuant.collect()"
      ],
      "metadata": {
        "id": "q_zYzIQi5PuP"
      },
      "execution_count": null,
      "outputs": []
    },
    {
      "cell_type": "code",
      "source": [
        "rdd_somaQuant_ordenado = rdd_somaQuant.sortBy(lambda x:x[1] , ascending=False)\n",
        "rdd_somaQuant_ordenado.collect()"
      ],
      "metadata": {
        "colab": {
          "base_uri": "https://localhost:8080/"
        },
        "id": "txsg-r4Z5-sC",
        "outputId": "f92b3716-0a0f-449b-cfa1-d8ef638eaae6"
      },
      "execution_count": 45,
      "outputs": [
        {
          "output_type": "execute_result",
          "data": {
            "text/plain": [
              "[(('BA', '3'), 15659),\n",
              " (('SP', '3'), 13822),\n",
              " (('SP', '4'), 13550),\n",
              " (('MG', '3'), 13363),\n",
              " (('MA', '3'), 11432),\n",
              " (('PA', '3'), 10371),\n",
              " (('CE', '3'), 7255),\n",
              " (('SP', '2'), 6572),\n",
              " (('RJ', '3'), 6368),\n",
              " (('MG', '4'), 6259),\n",
              " (('PE', '3'), 6184),\n",
              " (('RS', '3'), 5867),\n",
              " (('PR', '3'), 5487),\n",
              " (('RJ', '4'), 5301),\n",
              " (('PI', '3'), 5281),\n",
              " (('AM', '3'), 5080),\n",
              " (('MG', '2'), 4319),\n",
              " (('SC', '3'), 4290),\n",
              " (('PB', '3'), 3895),\n",
              " (('RN', '3'), 3435),\n",
              " (('BA', '4'), 3297),\n",
              " (('PE', '4'), 3216),\n",
              " (('RS', '4'), 3165),\n",
              " (('ES', '3'), 2752),\n",
              " (('GO', '3'), 2751),\n",
              " (('CE', '4'), 2604),\n",
              " (('RS', '2'), 2549),\n",
              " (('AL', '3'), 2474),\n",
              " (('PR', '4'), 2399),\n",
              " (('PR', '2'), 2164),\n",
              " (('MT', '3'), 1823),\n",
              " (('SC', '4'), 1608),\n",
              " (('SE', '3'), 1572),\n",
              " (('RJ', '2'), 1547),\n",
              " (('TO', '3'), 1534),\n",
              " (('MA', '4'), 1394),\n",
              " (('SC', '2'), 1371),\n",
              " (('GO', '4'), 1334),\n",
              " (('MA', '2'), 1305),\n",
              " (('BA', '2'), 1168),\n",
              " (('PE', '2'), 1083),\n",
              " (('PA', '4'), 1046),\n",
              " (('GO', '2'), 1040),\n",
              " (('PB', '4'), 1022),\n",
              " (('AC', '3'), 1009),\n",
              " (('RN', '4'), 1008),\n",
              " (('MS', '3'), 993),\n",
              " (('PA', '2'), 954),\n",
              " (('MT', '2'), 824),\n",
              " (('RN', '2'), 821),\n",
              " (('RO', '3'), 787),\n",
              " (('AM', '2'), 786),\n",
              " (('PI', '2'), 775),\n",
              " (('CE', '2'), 761),\n",
              " (('DF', '4'), 704),\n",
              " (('PB', '2'), 695),\n",
              " (('DF', '2'), 692),\n",
              " (('AC', '2'), 669),\n",
              " (('ES', '4'), 650),\n",
              " (('SE', '4'), 625),\n",
              " (('AL', '4'), 619),\n",
              " (('ES', '2'), 610),\n",
              " (('TO', '2'), 599),\n",
              " (('PI', '4'), 565),\n",
              " (('MT', '4'), 545),\n",
              " (('MS', '4'), 519),\n",
              " (('RR', '3'), 468),\n",
              " (('RO', '2'), 422),\n",
              " (('AP', '3'), 416),\n",
              " (('AP', '2'), 406),\n",
              " (('RR', '2'), 401),\n",
              " (('AM', '4'), 366),\n",
              " (('MS', '2'), 366),\n",
              " (('SE', '2'), 340),\n",
              " (('AL', '2'), 325),\n",
              " (('TO', '4'), 265),\n",
              " (('RO', '4'), 212),\n",
              " (('AP', '4'), 106),\n",
              " (('MG', '1'), 82),\n",
              " (('RJ', '1'), 66),\n",
              " (('RR', '4'), 65),\n",
              " (('RS', '1'), 50),\n",
              " (('AC', '4'), 49),\n",
              " (('SP', '1'), 45),\n",
              " (('SC', '1'), 39),\n",
              " (('CE', '1'), 34),\n",
              " (('BA', '1'), 32),\n",
              " (('MA', '1'), 31),\n",
              " (('RN', '1'), 29),\n",
              " (('PR', '1'), 29),\n",
              " (('GO', '1'), 27),\n",
              " (('PE', '1'), 26),\n",
              " (('PB', '1'), 26),\n",
              " (('PI', '1'), 24),\n",
              " (('PA', '1'), 24),\n",
              " (('ES', '1'), 23),\n",
              " (('MT', '1'), 19),\n",
              " (('AM', '1'), 18),\n",
              " (('AL', '1'), 17),\n",
              " (('TO', '1'), 11),\n",
              " (('DF', '1'), 11),\n",
              " (('MS', '1'), 11),\n",
              " (('SE', '1'), 10),\n",
              " (('RO', '1'), 10),\n",
              " (('AC', '1'), 7),\n",
              " (('RR', '1'), 7),\n",
              " (('AP', '1'), 6),\n",
              " (('AM', '0'), 1)]"
            ]
          },
          "metadata": {},
          "execution_count": 45
        }
      ]
    },
    {
      "cell_type": "code",
      "source": [
        "rdd_somaQuant_ordenado.coalesce(1).saveAsTextFile(\"Quant-de-escolas-por-UF-e-DependenciaAdmin.txt\")"
      ],
      "metadata": {
        "id": "_guQDjri7YpK"
      },
      "execution_count": 44,
      "outputs": []
    }
  ]
}